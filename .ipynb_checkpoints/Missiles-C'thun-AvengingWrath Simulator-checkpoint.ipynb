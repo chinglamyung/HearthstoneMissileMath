{
 "cells": [
  {
   "cell_type": "code",
   "execution_count": 95,
   "metadata": {},
   "outputs": [],
   "source": [
    "import random\n",
    "\n",
    "NUM_OF_SHOTS = 3\n",
    "DMG_PER_SHOT = 1\n",
    "FACE_HEALTH = 30\n",
    "\n",
    "TRIALS = 200000\n",
    "        \n",
    "def simulate(minions_on_board):\n",
    "    num_of_targets = 1 + len(minions_on_board)\n",
    "    face_dmg = 0\n",
    "    \n",
    "    for i in range(NUM_OF_SHOTS):\n",
    "        target = random.randint(-1,num_of_targets-2)\n",
    "        if target == -1:\n",
    "            face_dmg += DMG_PER_SHOT\n",
    "            continue\n",
    "        minions_on_board[target] -= DMG_PER_SHOT\n",
    "        if minions_on_board[target] <= 0:\n",
    "            minions_on_board.pop(target)\n",
    "            num_of_targets -= 1\n",
    "    \n",
    "    #print(\"end board state: \" + str(minions_on_board))\n",
    "    #print(\"face was hit for \" + str(face_dmg) + \" damage.\")\n",
    "    status = dict()\n",
    "    if len(minions_on_board) == 0:\n",
    "        status[\"board clear\"] = True\n",
    "    else:\n",
    "        status[\"board clear\"] = False\n",
    "    if FACE_HEALTH - face_dmg <= 0:\n",
    "        status[\"lethal\"] = True\n",
    "    else:\n",
    "        status[\"lethal\"] = False\n",
    "    #print(str(status) + \"\\n\\n\")\n",
    "    return status\n",
    "\n",
    "def main(minions_on_board):\n",
    "    lethal_num = 0\n",
    "    board_clear_num = 0\n",
    "\n",
    "    for i in range(TRIALS):\n",
    "        ret = simulate(list(minions_on_board)) #make a copy of the minions on board and run a single simulation\n",
    "        if ret[\"lethal\"] == True:\n",
    "            lethal_num += 1\n",
    "        if ret[\"board clear\"] == True:\n",
    "            board_clear_num += 1\n",
    "    \n",
    "    LETHAL_PROBABILITY = lethal_num / TRIALS\n",
    "    BOARD_CLEAR_PROBABILITY = board_clear_num / TRIALS\n",
    "    lethal_percent = LETHAL_PROBABILITY * 100\n",
    "    b_clear_percent = BOARD_CLEAR_PROBABILITY * 100\n",
    "    \n",
    "    print(\"Lethal probability is \"+str(LETHAL_PROBABILITY)+\"  (\"+str(lethal_percent)+\"%)\")\n",
    "    print()\n",
    "    print(\"Board Clear probability is \"+str(BOARD_CLEAR_PROBABILITY)+\"  (\"+str(b_clear_percent)+\"%)\")\n",
    "    pass"
   ]
  },
  {
   "cell_type": "code",
   "execution_count": 96,
   "metadata": {},
   "outputs": [
    {
     "name": "stdout",
     "output_type": "stream",
     "text": [
      "Lethal probability is 0.0  (0.0%)\n",
      "\n",
      "Board Clear probability is 0.498175  (49.817499999999995%)\n"
     ]
    }
   ],
   "source": [
    "# example: ARCANE MISSILES versus FAERIE DRAGON\n",
    "\n",
    "NUM_OF_SHOTS = 3\n",
    "DMG_PER_SHOT = 1\n",
    "FACE_HEALTH = 30\n",
    "\n",
    "minion_list = list()\n",
    "minion_list.append(2)\n",
    "\n",
    "main(minion_list)\n"
   ]
  },
  {
   "cell_type": "code",
   "execution_count": 97,
   "metadata": {},
   "outputs": [
    {
     "name": "stdout",
     "output_type": "stream",
     "text": [
      "Lethal probability is 0.0  (0.0%)\n",
      "\n",
      "Board Clear probability is 0.63763  (63.763000000000005%)\n"
     ]
    }
   ],
   "source": [
    "# example: AVENGING WRATH versus AZURE DRAKE\n",
    "\n",
    "NUM_OF_SHOTS = 8\n",
    "DMG_PER_SHOT = 1\n",
    "FACE_HEALTH = 30\n",
    "\n",
    "minion_list = list()\n",
    "minion_list.append(4)\n",
    "\n",
    "main(minion_list)"
   ]
  },
  {
   "cell_type": "code",
   "execution_count": 98,
   "metadata": {},
   "outputs": [
    {
     "name": "stdout",
     "output_type": "stream",
     "text": [
      "Lethal probability is 0.09009  (9.009%)\n",
      "\n",
      "Board Clear probability is 0.39476  (39.476%)\n"
     ]
    }
   ],
   "source": [
    "# example: 20 ATTACK C'THUN versus ONYXIA and A SLIGHTLY UNHEALTHY HERO\n",
    "\n",
    "NUM_OF_SHOTS = 20\n",
    "DMG_PER_SHOT = 1\n",
    "FACE_HEALTH = 10\n",
    "\n",
    "minion_list = list()\n",
    "minion_list.append(1)\n",
    "minion_list.append(1)\n",
    "minion_list.append(1)\n",
    "minion_list.append(8)\n",
    "minion_list.append(1)\n",
    "minion_list.append(1)\n",
    "minion_list.append(1)\n",
    "\n",
    "main(minion_list)"
   ]
  },
  {
   "cell_type": "code",
   "execution_count": 94,
   "metadata": {},
   "outputs": [
    {
     "name": "stdout",
     "output_type": "stream",
     "text": [
      "Lethal probability is 0.90574  (90.574%)\n",
      "\n",
      "Board Clear probability is 0.0  (0.0%)\n"
     ]
    }
   ],
   "source": [
    "# example: 30 ATTACK C'THUN versus ALMOST DEAD HERO PLUS A SEA OF GIANTS\n",
    "\n",
    "NUM_OF_SHOTS = 30\n",
    "DMG_PER_SHOT = 1\n",
    "FACE_HEALTH = 2\n",
    "\n",
    "minion_list = list()\n",
    "for i in range(7):\n",
    "    minion_list.append(8)\n",
    "\n",
    "main(minion_list)"
   ]
  },
  {
   "cell_type": "code",
   "execution_count": null,
   "metadata": {},
   "outputs": [],
   "source": []
  }
 ],
 "metadata": {
  "kernelspec": {
   "display_name": "Python 3",
   "language": "python",
   "name": "python3"
  },
  "language_info": {
   "codemirror_mode": {
    "name": "ipython",
    "version": 3
   },
   "file_extension": ".py",
   "mimetype": "text/x-python",
   "name": "python",
   "nbconvert_exporter": "python",
   "pygments_lexer": "ipython3",
   "version": "3.6.4"
  }
 },
 "nbformat": 4,
 "nbformat_minor": 2
}
