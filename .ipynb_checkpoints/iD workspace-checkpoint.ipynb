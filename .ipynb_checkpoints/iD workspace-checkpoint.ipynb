{
 "cells": [
  {
   "cell_type": "code",
   "execution_count": 2,
   "metadata": {},
   "outputs": [
    {
     "data": {
      "text/plain": [
       "'1.8.0'"
      ]
     },
     "execution_count": 2,
     "metadata": {},
     "output_type": "execute_result"
    }
   ],
   "source": [
    "import tensorflow as tf\n",
    "tf.__version__"
   ]
  },
  {
   "cell_type": "code",
   "execution_count": 28,
   "metadata": {},
   "outputs": [],
   "source": [
    "# Clear the tensorflow graph\n",
    "tf.reset_default_graph()\n",
    "\n",
    "# Create constant and operation as nodes\n",
    "# test_constant = tf.constant (10.0, dtype=tf.float32)\n",
    "# add_one_operation = test_constant + 1\n",
    "\n",
    "# Create placeholder as node\n",
    "# factor1 = tf.placeholder(dtype=tf.float32, shape=[None, 2])\n",
    "# factor2 = tf.placeholder(dtype=tf.float32, shape=[None, 2])\n",
    "# double_operation = factor1 * factor2\n",
    "\n",
    "input_data = tf.placeholder(dtype=tf.float32, shape=None)\n",
    "expected_out = tf.placeholder(dtype=tf.float32, shape=None)\n",
    "\n",
    "slope = tf.Variable(0.5, dtype=tf.float32)\n",
    "intercept = tf.Variable(0.1, dtype=tf.float32)\n",
    "\n",
    "model_operation = slope * input_data + intercept\n",
    "error = model_operation - expected_out\n",
    "squared_err = tf.square(error)\n",
    "loss = tf.reduce_mean(squared_err)\n"
   ]
  },
  {
   "cell_type": "code",
   "execution_count": 29,
   "metadata": {},
   "outputs": [
    {
     "name": "stdout",
     "output_type": "stream",
     "text": [
      "[-0.39999998 -1.9        -3.4        -4.9        -6.4       ]\n"
     ]
    }
   ],
   "source": [
    "# Run a sessoin\n",
    "\n",
    "# set the function pointer to clear global variables inside tf\n",
    "init = tf.global_variables_initializer()\n",
    "\n",
    "#testing purposes\n",
    "x_values = [1,2,3,4,5]\n",
    "y_values = [1,3,5,7,9]\n",
    "\n",
    "with tf.Session() as sess:\n",
    "    sess.run(init)\n",
    "    print(sess.run(error, feed_dict={input_data:x_values, expected_out: y_values} ))"
   ]
  },
  {
   "cell_type": "code",
   "execution_count": null,
   "metadata": {},
   "outputs": [],
   "source": []
  }
 ],
 "metadata": {
  "kernelspec": {
   "display_name": "Python 3",
   "language": "python",
   "name": "python3"
  },
  "language_info": {
   "codemirror_mode": {
    "name": "ipython",
    "version": 3
   },
   "file_extension": ".py",
   "mimetype": "text/x-python",
   "name": "python",
   "nbconvert_exporter": "python",
   "pygments_lexer": "ipython3",
   "version": "3.6.4"
  }
 },
 "nbformat": 4,
 "nbformat_minor": 2
}
